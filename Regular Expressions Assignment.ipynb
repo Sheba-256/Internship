{
 "cells": [
  {
   "cell_type": "code",
   "execution_count": 74,
   "id": "6f5c7518",
   "metadata": {},
   "outputs": [],
   "source": [
    "import re\n",
    "import regex as re"
   ]
  },
  {
   "cell_type": "code",
   "execution_count": 75,
   "id": "ee54b040",
   "metadata": {},
   "outputs": [
    {
     "name": "stdout",
     "output_type": "stream",
     "text": [
      "Python:Exercises,:PHP:exercises.\n"
     ]
    }
   ],
   "source": [
    "#Sample Text- 'Python Exercises, PHP exercises.'\n",
    "#Expected Output: Python:Exercises::PHP:exercises:\n",
    "\n",
    "sample_text='Python Exercises, PHP exercises.'\n",
    "pattern=re.sub(\"\\s\",\":\",sample_text)\n",
    "print(pattern)\n"
   ]
  },
  {
   "cell_type": "code",
   "execution_count": 83,
   "id": "d43b7a9c",
   "metadata": {},
   "outputs": [
    {
     "name": "stdout",
     "output_type": "stream",
     "text": [
      "0      hello world\n",
      "1             test\n",
      "2    four five six\n",
      "Name: SUMMARY, dtype: object\n"
     ]
    }
   ],
   "source": [
    "#Create a dataframe using the dictionary below and remove everything (commas (,), !, XXXX, ;, etc.) from the columns except words.\n",
    "#Dictionary- {'SUMMARY' : ['hello, world!', 'XXXXX test', '123four, five:; six...']}\n",
    "#Expected output-\n",
    "#0      hello world\n",
    "#1             test\n",
    "#2    four five six\n",
    "\n",
    "import pandas as pd\n",
    "import regex as re\n",
    "\n",
    "dictionary= {'SUMMARY' : ['hello, world!', 'XXXXX test', '123four five:; six...']}\n",
    "df= pd.DataFrame(dictionary)\n",
    "df\n",
    "pattern = df['SUMMARY'].str.replace(r'[^a-z\\s]','',regex=True)\n",
    "print (pattern)"
   ]
  },
  {
   "cell_type": "code",
   "execution_count": 74,
   "id": "9271f564",
   "metadata": {},
   "outputs": [
    {
     "name": "stdout",
     "output_type": "stream",
     "text": [
      "['abds', 'ahdd', 'abcd', 'skdh']\n"
     ]
    }
   ],
   "source": [
    "#Create a function in python to find all words that are at least 4 characters long in a string. The use of the re.compile() method is mandatory.\n",
    "\n",
    "sample_text='abds, ahdd, akdaksj, abcd, skdh, ejrhehe'\n",
    "pattern=re.compile(r'\\b\\w{4}\\b')\n",
    "result = re.findall(pattern,sample_text)\n",
    "print (result)"
   ]
  },
  {
   "cell_type": "code",
   "execution_count": 75,
   "id": "de32cc96",
   "metadata": {},
   "outputs": [
    {
     "name": "stdout",
     "output_type": "stream",
     "text": [
      "['The', 'five', 'poem', 'meter', 'rhyme', 'form']\n"
     ]
    }
   ],
   "source": [
    "#Create a function in python to find all three, four, and five character words in a string. The use of the re.compile() method is mandatory.\n",
    "\n",
    "sample_text='The five defining characteristics of a poem include: meter. rhyme. form.'\n",
    "pattern= re.compile(r'\\b\\w{3,5}\\b')\n",
    "result = re.findall(pattern,sample_text)\n",
    "print(result)"
   ]
  },
  {
   "cell_type": "code",
   "execution_count": 76,
   "id": "e8cd57e5",
   "metadata": {},
   "outputs": [
    {
     "name": "stdout",
     "output_type": "stream",
     "text": [
      "\"example .com\", \"hr@fliprobo .com\", \"github .com\", \"Hello Data Science World\", \"Data Scientist\"\n"
     ]
    }
   ],
   "source": [
    "#Create a function in Python to remove the parenthesis in a list of strings. The use of the re.compile() method is mandatory.\n",
    "#Sample Text: [\"example (.com)\", \"hr@fliprobo (.com)\", \"github (.com)\", \"Hello (Data Science World)\", \"Data (Scientist)\"]\n",
    "#Expected Output:\n",
    "#example.com\n",
    "#hr@fliprobo.com\n",
    "#github.com\n",
    "#Hello Data Science World\n",
    "\n",
    "sample_text='\"example (.com)\", \"hr@fliprobo (.com)\", \"github (.com)\", \"Hello (Data Science World)\", \"Data (Scientist)\"'\n",
    "pattern= re.compile(r'[()]')\n",
    "result = re.sub(pattern,\"\",sample_text)\n",
    "print(result)"
   ]
  },
  {
   "cell_type": "code",
   "execution_count": 116,
   "id": "7f130753",
   "metadata": {},
   "outputs": [
    {
     "name": "stdout",
     "output_type": "stream",
     "text": [
      "Parentheses area removed:\n",
      "\"example\", \"hr@fliprobo\", \"github\", \"Hello\", \"Data\"\n"
     ]
    }
   ],
   "source": [
    "#Write a python program to remove the parenthesis area from the text stored in the text file using Regular Expression.\n",
    "#Sample Text: [\"example (.com)\", \"hr@fliprobo (.com)\", \"github (.com)\", \"Hello (Data Science World)\", \"Data (Scientist)\"]\n",
    "#Expected Output: [\"example\", \"hr@fliprobo\", \"github\", \"Hello\", \"Data\"]\n",
    "#Note- Store given sample text in the text file and then to remove the parenthesis area from the text.\n",
    "\n",
    "import re\n",
    "\n",
    "filename = r'C:\\Users\\sheba\\OneDrive\\Documents\\Internship 2024\\sample.txt'\n",
    "\n",
    "def parentheses_area(filename):\n",
    "    \n",
    "    with open(filename,'r') as file:\n",
    "        text = file.read()\n",
    "        modified_text=re.sub(r'\\s*\\([^)]*\\)','',text)\n",
    "        return modified_text\n",
    "\n",
    "new_sample_text = parentheses_area(filename)\n",
    "\n",
    "print(\"Parentheses area removed:\")\n",
    "print(new_sample_text)\n",
    "   "
   ]
  },
  {
   "cell_type": "code",
   "execution_count": 9,
   "id": "d3566c6c",
   "metadata": {},
   "outputs": [
    {
     "name": "stdout",
     "output_type": "stream",
     "text": [
      "['Importance', 'Of', 'Regular', 'Expressions', 'In', 'Python']\n"
     ]
    }
   ],
   "source": [
    "#Write a regular expression in Python to split a string into uppercase letters.\n",
    "#Sample text: “ImportanceOfRegularExpressionsInPython”\n",
    "#Expected Output: [‘Importance’, ‘Of’, ‘Regular’, ‘Expression’, ‘In’, ‘Python’]\n",
    "\n",
    "sample_text='ImportanceOfRegularExpressionsInPython'\n",
    "pattern=re.findall(r'[A-Z][^A-Z]*',sample_text)\n",
    "print (pattern)\n"
   ]
  },
  {
   "cell_type": "code",
   "execution_count": 74,
   "id": "02f398d1",
   "metadata": {},
   "outputs": [
    {
     "name": "stdout",
     "output_type": "stream",
     "text": [
      "Regular Expression Is An Important Topic In Python\n"
     ]
    }
   ],
   "source": [
    "#Create a function in python to insert spaces between words starting with numbers.\n",
    "#Sample Text: “RegularExpression1IsAn2ImportantTopic3InPython\"\n",
    "#Expected Output: RegularExpression 1IsAn 2ImportantTopic 3InPython\n",
    "\n",
    "import re\n",
    "\n",
    "def insert_spaces(text):\n",
    "    pattern = r'([A-Z][a-z0-9]+|\\d+)'\n",
    "    return re.sub(pattern, r' \\1', text).strip()\n",
    "\n",
    "sample_text = \"RegularExpressionIsAnImportantTopicInPython\"\n",
    "result = insert_spaces(sample_text)\n",
    "print(result)"
   ]
  },
  {
   "cell_type": "code",
   "execution_count": 39,
   "id": "f04ba537",
   "metadata": {},
   "outputs": [
    {
     "name": "stdout",
     "output_type": "stream",
     "text": [
      "RegularExpression 1 IsAn 2 ImportantTopic 3 InPython\n"
     ]
    }
   ],
   "source": [
    "#Create a function in python to insert spaces between words starting with capital letters or with numbers.\n",
    "#Sample Text: “RegularExpression1IsAn2ImportantTopic3InPython\"\n",
    "#Expected Output:  RegularExpression 1 IsAn 2 ImportantTopic 3 InPython\n",
    "\n",
    "import re\n",
    "\n",
    "def insert_spaces(text):\n",
    "    \n",
    "    pattern = r'(\\d+)([A-Za-z]+)'\n",
    "    result = re.sub(pattern,r' \\1 \\2',text)\n",
    "    return result.strip()\n",
    "    \n",
    "sample_text = 'RegularExpression1IsAn2ImportantTopic3InPython'\n",
    "#result = insert_spaces(sample_text)\n",
    "print(insert_spaces(result))"
   ]
  },
  {
   "cell_type": "code",
   "execution_count": 62,
   "id": "e1f9a189",
   "metadata": {},
   "outputs": [
    {
     "name": "stdout",
     "output_type": "stream",
     "text": [
      "RegularExpression1 IsAn2 ImportantTopic3 InPython\n"
     ]
    }
   ],
   "source": [
    "#Create a function in python to insert spaces between words starting with numbers.\n",
    "#Sample Text: “RegularExpression1IsAn2ImportantTopic3InPython\"\n",
    "#Expected Output: RegularExpression 1IsAn 2ImportantTopic 3InPython\n",
    "\n",
    "import re\n",
    "\n",
    "def insert_spaces_num(text):\n",
    "    \n",
    "    pattern = r'(\\d+)([A-Za-z]+)'\n",
    "    result = re.sub(pattern,r'\\1 \\2', text)\n",
    "    return result\n",
    "    \n",
    "sample_text = 'RegularExpression1IsAn2ImportantTopic3InPython'\n",
    "print(insert_spaces_num(sample_text))    "
   ]
  },
  {
   "cell_type": "code",
   "execution_count": 117,
   "id": "08b05c7f",
   "metadata": {},
   "outputs": [
    {
     "name": "stdout",
     "output_type": "stream",
     "text": [
      "       Country          Region  Happiness Rank  Happiness Score  \\\n",
      "0  Switzerland  Western Europe               1            7.587   \n",
      "1      Iceland  Western Europe               2            7.561   \n",
      "2      Denmark  Western Europe               3            7.527   \n",
      "3       Norway  Western Europe               4            7.522   \n",
      "4       Canada   North America               5            7.427   \n",
      "\n",
      "   Standard Error  Economy (GDP per Capita)   Family  \\\n",
      "0         0.03411                   1.39651  1.34951   \n",
      "1         0.04884                   1.30232  1.40223   \n",
      "2         0.03328                   1.32548  1.36058   \n",
      "3         0.03880                   1.45900  1.33095   \n",
      "4         0.03553                   1.32629  1.32261   \n",
      "\n",
      "   Health (Life Expectancy)  Freedom  Trust (Government Corruption)  \\\n",
      "0                   0.94143  0.66557                        0.41978   \n",
      "1                   0.94784  0.62877                        0.14145   \n",
      "2                   0.87464  0.64938                        0.48357   \n",
      "3                   0.88521  0.66973                        0.36503   \n",
      "4                   0.90563  0.63297                        0.32957   \n",
      "\n",
      "   Generosity  Dystopia Residual first_five_letters  \n",
      "0     0.29678            2.51738              Switz  \n",
      "1     0.43630            2.70201              Icela  \n",
      "2     0.34139            2.49204              Denma  \n",
      "3     0.34699            2.46531              Norwa  \n",
      "4     0.45811            2.45176              Canad  \n"
     ]
    }
   ],
   "source": [
    "#Use the github link below to read the data and create a dataframe. After creating the dataframe extract the first 6 letters of each country and store in the dataframe under a new column called first_five_letters.\n",
    "#Github Link-  https://raw.githubusercontent.com/dsrscientist/DSData/master/happiness_score_dataset.csv\n",
    "\n",
    "import pandas as pd\n",
    "\n",
    "url='https://raw.githubusercontent.com/dsrscientist/DSData/master/happiness_score_dataset.csv'\n",
    "df=pd.read_csv(url)\n",
    "df['first_five_letters']=df['Country'].str[:5]\n",
    "print(df.head())"
   ]
  },
  {
   "cell_type": "code",
   "execution_count": 41,
   "id": "649d3d90",
   "metadata": {},
   "outputs": [
    {
     "name": "stdout",
     "output_type": "stream",
     "text": [
      "Enter String: Abc_def\n",
      "Match found\n"
     ]
    }
   ],
   "source": [
    "#Write a Python program to match a string that contains only upper and lowercase letters, numbers, and underscores.\n",
    "\n",
    "import re\n",
    "\n",
    "def check_string(string):\n",
    "    \n",
    "    pattern=re.compile(r'^[a-zA-Z0-9_]+$')\n",
    "    return bool(pattern.match(string))\n",
    "\n",
    "sample_text=input(\"Enter String: \")\n",
    "\n",
    "if check_string(sample_text):\n",
    "    print(\"Match found\")\n",
    "else:\n",
    "    print(\"Match not found\")    \n"
   ]
  },
  {
   "cell_type": "code",
   "execution_count": 46,
   "id": "227420a8",
   "metadata": {},
   "outputs": [
    {
     "name": "stdout",
     "output_type": "stream",
     "text": [
      "Enter string with a number:123abc\n",
      "Enter Number:123\n",
      "The string starts with a specific number\n"
     ]
    }
   ],
   "source": [
    "#Write a Python program where a string will start with a specific number. \n",
    "\n",
    "import re\n",
    "\n",
    "def check_starts_w_number(s,number):\n",
    "    \n",
    "    pattern=re.compile(r'^'+str(number)+'.*$')\n",
    "    return bool(pattern.match(s))\n",
    "\n",
    "sample_text=input(\"Enter string with a number:\")\n",
    "num=int(input(\"Enter Number:\"))\n",
    "\n",
    "if check_starts_w_number(sample_text,num):\n",
    "    print(\"The string starts with a specific number\")\n",
    "else:\n",
    "    print(\"The string does not start with a specific number\")\n"
   ]
  },
  {
   "cell_type": "code",
   "execution_count": 48,
   "id": "7d06cb3e",
   "metadata": {},
   "outputs": [
    {
     "name": "stdout",
     "output_type": "stream",
     "text": [
      "Enter IP address: 192.168.001.001\n",
      "Removed leading zeros: 192.168.01.01\n"
     ]
    }
   ],
   "source": [
    "#Write a Python program to remove leading zeros from an IP address\n",
    "\n",
    "import re\n",
    "\n",
    "ip_address= input(\"Enter IP address: \")\n",
    "pattern=re.sub('\\.[0]','.',ip_address)\n",
    "print(\"Removed leading zeros:\",pattern)"
   ]
  },
  {
   "cell_type": "code",
   "execution_count": 101,
   "id": "17fe667e",
   "metadata": {},
   "outputs": [
    {
     "name": "stdout",
     "output_type": "stream",
     "text": [
      "Extracted Date: ['August 15th 1947']\n"
     ]
    }
   ],
   "source": [
    "#Write a regular expression in python to match a date string in the form of Month name followed by day number and year stored in a text file.\n",
    "#Sample text :  ' On August 15th 1947 that India was declared independent from British colonialism, and the reins of control were handed over to the leaders of the Country’.\n",
    "#Expected Output- August 15th 1947\n",
    "#Note- Store given sample text in the text file and then extract the date string asked format.\n",
    "\n",
    "import re\n",
    "\n",
    "filename= r'C:\\Users\\sheba\\OneDrive\\Documents\\Internship 2024\\sample_text.txt'\n",
    "\n",
    "with open(filename,'r') as file:\n",
    "    text=file.read()\n",
    "    \n",
    "pattern=r'\\b(?:January|February|March|April|May|June|July|August|September|October|November|December)\\s+\\d{1,2}(?:st|nd|rd|th)\\s+\\d{4}\\b'  \n",
    "result=re.findall(pattern,text)\n",
    "\n",
    "print (f\"Extracted Date:\", result)"
   ]
  },
  {
   "cell_type": "code",
   "execution_count": 107,
   "id": "106e197a",
   "metadata": {},
   "outputs": [
    {
     "name": "stdout",
     "output_type": "stream",
     "text": [
      "\"fox\"in text\n",
      "\"dog\"in text\n",
      "\"horse\" not found in text\n"
     ]
    }
   ],
   "source": [
    "sample_text='\"The quick brown fox jumps over the lazy dog.\"'\n",
    "searched_words=['fox','dog','horse']\n",
    "\n",
    "def search_literal_strings(text):\n",
    "    \n",
    "    for pattern in searched_words:\n",
    "        \n",
    "        if re.search(pattern,text):\n",
    "            print(f'\"{pattern}\"in text')\n",
    "        else:\n",
    "            print(f'\"{pattern}\" not found in text')\n",
    "\n",
    "sample_text = 'The quick brown fox jumps over the lazy dog.'\n",
    "search_literal_strings(sample_text)          \n"
   ]
  },
  {
   "cell_type": "code",
   "execution_count": 111,
   "id": "d391d4d6",
   "metadata": {},
   "outputs": [
    {
     "name": "stdout",
     "output_type": "stream",
     "text": [
      "Found \"fox\" from 16 to 19\n"
     ]
    }
   ],
   "source": [
    "#Write a Python program to search a literals string in a string and also find the location within the original string where the pattern occurs\n",
    "#Sample text : 'The quick brown fox jumps over the lazy dog.'\n",
    "#Searched words : 'fox'\n",
    "\n",
    "sample_text='The quick brown fox jumps over the lazy dog.'\n",
    "searched_word='fox'\n",
    "\n",
    "def find_literal_strings(text,pattern):\n",
    "    \n",
    "    match = re.search(pattern,text)\n",
    "    if match:\n",
    "        s = match.start()\n",
    "        e = match.end()\n",
    "        print(f'Found \"{pattern}\" from {s} to {e}')\n",
    "    else:\n",
    "            print(f'\"{pattern}\" not found in text')\n",
    "\n",
    "sample_text = 'The quick brown fox jumps over the lazy dog.'\n",
    "find_literal_strings(sample_text,searched_word)  \n"
   ]
  },
  {
   "cell_type": "code",
   "execution_count": 51,
   "id": "6c661a95",
   "metadata": {},
   "outputs": [
    {
     "name": "stdout",
     "output_type": "stream",
     "text": [
      "['exercises', 'exercises', 'exercises']\n"
     ]
    }
   ],
   "source": [
    "#Write a Python program to find the substrings within a string.\n",
    "#Sample text : 'Python exercises, PHP exercises, C# exercises'\n",
    "#Pattern : 'exercises'.\n",
    "\n",
    "sample_text='Python exercises, PHP exercises, C# exercises'\n",
    "pattern='exercises'\n",
    "result=re.findall(pattern,sample_text)\n",
    "print(result)\n"
   ]
  },
  {
   "cell_type": "code",
   "execution_count": 64,
   "id": "e8110ea9",
   "metadata": {},
   "outputs": [
    {
     "name": "stdout",
     "output_type": "stream",
     "text": [
      "The substring 'exercises' occurs at positions: [7, 22, 36]\n"
     ]
    }
   ],
   "source": [
    "#Write a Python program to find the occurrence and position of the substrings within a string.\n",
    "\n",
    "import re\n",
    "\n",
    "def find_substring_positions(text, substring):\n",
    "    \n",
    "    positions = []\n",
    "        \n",
    "    for match in re.finditer(substring, text):\n",
    "        positions.append(match.start())\n",
    "    \n",
    "    return positions\n",
    "\n",
    "sample_text = \"Python exercises, PHP exercises, C# exercises\"\n",
    "search_substring = \"exercises\"\n",
    "\n",
    "substring_positions = find_substring_positions(sample_text, search_substring)\n",
    "\n",
    "print(f\"The substring '{search_substring}' occurs at positions: {substring_positions}\")\n"
   ]
  },
  {
   "cell_type": "code",
   "execution_count": 80,
   "id": "56fbfbc6",
   "metadata": {},
   "outputs": [
    {
     "name": "stdout",
     "output_type": "stream",
     "text": [
      "Old Format:  2024-04-24\n",
      "New Format: 24-04-2024\n"
     ]
    }
   ],
   "source": [
    "#Write a Python program to convert a date of yyyy-mm-dd format to dd-mm-yyyy formaimport datetime\n",
    "\n",
    "from datetime import datetime\n",
    "\n",
    "old_format='2024-04-24'\n",
    "print(\"Old Format: \",old_format)\n",
    "\n",
    "datetime_obj = datetime.strptime(old_format,\"%Y-%m-%d\")\n",
    "new_format = datetime_obj.strftime(\"%d-%m-%Y\")\n",
    "print(\"New Format:\",new_format)\n"
   ]
  },
  {
   "cell_type": "code",
   "execution_count": 16,
   "id": "cc42e3b5",
   "metadata": {},
   "outputs": [
    {
     "name": "stdout",
     "output_type": "stream",
     "text": [
      "['01.12', '145.8', '3.01', '27.25', '0.25']\n"
     ]
    }
   ],
   "source": [
    "#Create a function in python to find all decimal numbers with a precision of 1 or 2 in a string. The use of the re.compile() method is mandatory.\n",
    "#Sample Text: \"01.12 0132.123 2.31875 145.8 3.01 27.25 0.25\"\n",
    "#Expected Output: ['01.12', '145.8', '3.01', '27.25', '0.25']\n",
    "\n",
    "sample_text='01.12 0132.123 2.31875 145.8 3.01 27.25 0.25'\n",
    "pattern=re.compile(r'\\b\\d+\\.\\d{1,2}\\b')\n",
    "decimal_numbers=re.findall(pattern,sample_text)\n",
    "print (decimal_numbers)"
   ]
  },
  {
   "cell_type": "code",
   "execution_count": 86,
   "id": "e9617c88",
   "metadata": {},
   "outputs": [
    {
     "name": "stdout",
     "output_type": "stream",
     "text": [
      "100\n",
      "Index Postion: 10\n"
     ]
    }
   ],
   "source": [
    "#Write a Python program to separate and print the numbers and their position of a given string.\n",
    "\n",
    "sample_text='There are 100 cows on this farm'\n",
    "\n",
    "for m in re.finditer(\"\\d+\",sample_text):\n",
    "    print(m.group(0))\n",
    "    print(\"Index Postion:\",m.start())"
   ]
  },
  {
   "cell_type": "code",
   "execution_count": 88,
   "id": "efeec36c",
   "metadata": {},
   "outputs": [
    {
     "name": "stdout",
     "output_type": "stream",
     "text": [
      "950\n"
     ]
    }
   ],
   "source": [
    "#Write a regular expression in python program to extract maximum/largest numeric value from a string.\n",
    "#Sample Text:  'My marks in each semester are: 947, 896, 926, 524, 734, 950, 642'\n",
    "#Expected Output: 950\n",
    "\n",
    "sample_text='My marks in each semester are: 947, 896, 926, 524, 734, 950, 642'\n",
    "num_values=re.findall(r'\\d+',sample_text)\n",
    "max_number=max(map(int,num_values))\n",
    "print(max_number)"
   ]
  },
  {
   "cell_type": "code",
   "execution_count": 71,
   "id": "6eb8f8cd",
   "metadata": {},
   "outputs": [
    {
     "name": "stdout",
     "output_type": "stream",
     "text": [
      "['#Doltiwal', '#xyzabc', '#Demonetization']\n"
     ]
    }
   ],
   "source": [
    "#Create a function in python to insert spaces between words starting with capital letters.\n",
    "#Sample Text: “RegularExpressionIsAnImportantTopicInPython\"\n",
    "#Expected Output: Regular Expression Is An Important Topic In Python\n",
    "\n",
    "def insert_spaces(text):\n",
    "    pattern = re.sub(r'([A-Z])',r'\\1', text).strip()\n",
    "    return result\n",
    "    \n",
    "sample_text='RegularExpressionIsAnImportantTopicInPython'\n",
    "output=insert_spaces(sample_text)\n",
    "print(output) "
   ]
  },
  {
   "cell_type": "code",
   "execution_count": 99,
   "id": "2d0c7518",
   "metadata": {
    "scrolled": true
   },
   "outputs": [
    {
     "name": "stdout",
     "output_type": "stream",
     "text": [
      "Enter text:AbcDdf\n",
      "['Abc', 'Ddf']\n"
     ]
    }
   ],
   "source": [
    "#Python regex to find sequences of one upper case letter followed by lower case letters\n",
    "sample_text=input(\"Enter text:\")\n",
    "pattern=re.findall(r'[A-Z][a-z]+',sample_text)\n",
    "print(pattern)"
   ]
  },
  {
   "cell_type": "code",
   "execution_count": 24,
   "id": "950d53ea",
   "metadata": {},
   "outputs": [
    {
     "name": "stdout",
     "output_type": "stream",
     "text": [
      "Hello hello world\n"
     ]
    }
   ],
   "source": [
    "#Write a Python program to remove continuous duplicate words from Sentence using Regular Expression.\n",
    "#Sample Text: \"Hello hello world world\"\n",
    "#Expected Output: Hello hello world\n",
    "\n",
    "def remove_duplicate(text):\n",
    "    new_sentence=re.sub(r'\\b(\\w+)(\\s+\\1)+\\b',r'\\1',text)\n",
    "    return new_sentence\n",
    "\n",
    "sample_text='Hello hello world world'\n",
    "result=remove_duplicate(sample_text)\n",
    "print (result)"
   ]
  },
  {
   "cell_type": "code",
   "execution_count": 34,
   "id": "269062b3",
   "metadata": {},
   "outputs": [
    {
     "name": "stdout",
     "output_type": "stream",
     "text": [
      "Enter Words:ab12\n",
      "Ends with alphanumeric character\n"
     ]
    }
   ],
   "source": [
    "#Write a python program using RegEx to accept string ending with alphanumeric character.\n",
    "\n",
    "import re\n",
    "\n",
    "def check_string(string):\n",
    "    pattern= re.compile(r'^.*[a-zA-Z0-9]$')\n",
    "  \n",
    "    if pattern.match(string):\n",
    "        return True\n",
    "    else:\n",
    "        return False\n",
    "    \n",
    "sample_text=input(\"Enter Words:\")\n",
    "\n",
    "if check_string(sample_text):    \n",
    "        print(\"Ends with alphanumeric character\")    \n",
    "else:\n",
    "        print(\"Does not end with alphanumeric character\")\n"
   ]
  },
  {
   "cell_type": "code",
   "execution_count": 5,
   "id": "1d1eba4c",
   "metadata": {},
   "outputs": [
    {
     "name": "stdout",
     "output_type": "stream",
     "text": [
      "['#Doltiwal', '#xyzabc', '#Demonetization']\n"
     ]
    }
   ],
   "source": [
    "#Write a python program using RegEx to extract the hashtags.\n",
    "#Sample Text:  \"\"\"RT @kapil_kausik: #Doltiwal I mean #xyzabc is \"hurt\" by #Demonetization as the same has rendered USELESS <ed><U+00A0><U+00BD><ed><U+00B1><U+0089> \"acquired funds\" No wo\"\"\"\n",
    "#Expected Output: ['#Doltiwal', '#xyzabc', '#Demonetization']\n",
    "\n",
    "sample_text='\"\"\"RT @kapil_kausik: #Doltiwal I mean #xyzabc is \"hurt\" by #Demonetization as the same has rendered USELESS <ed><U+00A0><U+00BD><ed><U+00B1><U+0089> \"acquired funds\" No wo\"\"\"'\n",
    "pattern=r'#\\w+'\n",
    "result=re.findall(pattern,sample_text)\n",
    "print(result)"
   ]
  },
  {
   "cell_type": "code",
   "execution_count": 6,
   "id": "56fe9c5d",
   "metadata": {},
   "outputs": [
    {
     "name": "stdout",
     "output_type": "stream",
     "text": [
      "\"@Jags123456 Bharat band on 28??<ed><ed>Those who  are protesting #demonetization  are all different party leaders\"\n"
     ]
    }
   ],
   "source": [
    "#Write a python program using RegEx to remove <U+..> like symbols\n",
    "#Check the below sample text, there are strange symbols something of the sort <U+..> all over the place. You need to come up with a general Regex expression that will cover all such symbols.\n",
    "#Sample Text: \"@Jags123456 Bharat band on 28??<ed><U+00A0><U+00BD><ed><U+00B8><U+0082>Those who  are protesting #demonetization  are all different party leaders\"\n",
    "#Expected Output: @Jags123456 Bharat band on 28??<ed><ed>Those who  are protesting #demonetization  are all different party leaders\n",
    "\n",
    "sample_text='\"@Jags123456 Bharat band on 28??<ed><U+00A0><U+00BD><ed><U+00B8><U+0082>Those who  are protesting #demonetization  are all different party leaders\"'\n",
    "pattern=r'<U\\+[0-9A-Fa-f]+>'\n",
    "result=re.sub(pattern,'',sample_text)\n",
    "print(result)"
   ]
  },
  {
   "cell_type": "code",
   "execution_count": 121,
   "id": "4ec9a748",
   "metadata": {},
   "outputs": [
    {
     "name": "stdout",
     "output_type": "stream",
     "text": [
      "['12-09-1992', '15-12-1999']\n"
     ]
    }
   ],
   "source": [
    "#Write a python program to extract dates from the text stored in the text file.\n",
    "#Sample Text: Ron was born on 12-09-1992 and he was admitted to school 15-12-1999.\n",
    "#Note- Store this sample text in the file and then extract dates.\n",
    "\n",
    "filename = r'C:\\Users\\sheba\\OneDrive\\Documents\\Internship 2024\\extract_date.txt'\n",
    "\n",
    "def extract_dates (filename):\n",
    "    with open(filename,'r') as file:\n",
    "        text = file.read()\n",
    "        pattern = r'\\b(\\d{2}-\\d{2}-\\d{4})\\b'\n",
    "        dates = re.findall(pattern,text)\n",
    "        return dates\n",
    "\n",
    "print (extract_dates(filename))\n",
    "    "
   ]
  },
  {
   "cell_type": "code",
   "execution_count": 2,
   "id": "66f6515b",
   "metadata": {},
   "outputs": [
    {
     "name": "stdout",
     "output_type": "stream",
     "text": [
      " following example creates  ArrayList  a capacity   elements. 4 elements   added   ArrayList   ArrayList  trimmed accordingly.\n"
     ]
    }
   ],
   "source": [
    "#Create a function in python to remove all words from a string of length between 2 and 4.\n",
    "#The use of the re.compile() method is mandatory.\n",
    "#Sample Text: \"The following example creates an ArrayList with a capacity of 50 elements. 4 elements are then added to the ArrayList and the ArrayList is trimmed accordingly.\"\n",
    "#Expected Output:  following example creates ArrayList a capacity elements. 4 elements added ArrayList ArrayList trimmed accordingly.\n",
    "\n",
    "import re\n",
    "\n",
    "def remove_words(text):\n",
    "    \n",
    "    pattern=re.compile(r'\\b\\w{2,4}\\b')\n",
    "    new_string=re.sub(pattern,'',text)\n",
    "    return new_string\n",
    "\n",
    "sample_text='The following example creates an ArrayList with a capacity of 50 elements. 4 elements are then added to the ArrayList and the ArrayList is trimmed accordingly.'\n",
    "result=remove_words(sample_text)\n",
    "print(result)"
   ]
  },
  {
   "cell_type": "code",
   "execution_count": null,
   "id": "e0c9f65d",
   "metadata": {},
   "outputs": [],
   "source": []
  }
 ],
 "metadata": {
  "kernelspec": {
   "display_name": "Python 3 (ipykernel)",
   "language": "python",
   "name": "python3"
  },
  "language_info": {
   "codemirror_mode": {
    "name": "ipython",
    "version": 3
   },
   "file_extension": ".py",
   "mimetype": "text/x-python",
   "name": "python",
   "nbconvert_exporter": "python",
   "pygments_lexer": "ipython3",
   "version": "3.11.5"
  }
 },
 "nbformat": 4,
 "nbformat_minor": 5
}
