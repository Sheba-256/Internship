{
 "cells": [
  {
   "cell_type": "code",
   "execution_count": 1,
   "id": "c856e1e3",
   "metadata": {},
   "outputs": [
    {
     "name": "stdout",
     "output_type": "stream",
     "text": [
      "Requirement already satisfied: bs4 in c:\\users\\sheba\\anaconda3\\lib\\site-packages (0.0.2)\n",
      "Requirement already satisfied: beautifulsoup4 in c:\\users\\sheba\\anaconda3\\lib\\site-packages (from bs4) (4.12.2)\n",
      "Requirement already satisfied: soupsieve>1.2 in c:\\users\\sheba\\anaconda3\\lib\\site-packages (from beautifulsoup4->bs4) (2.4)\n",
      "Requirement already satisfied: requests in c:\\users\\sheba\\anaconda3\\lib\\site-packages (2.31.0)\n",
      "Requirement already satisfied: charset-normalizer<4,>=2 in c:\\users\\sheba\\anaconda3\\lib\\site-packages (from requests) (2.0.4)\n",
      "Requirement already satisfied: idna<4,>=2.5 in c:\\users\\sheba\\anaconda3\\lib\\site-packages (from requests) (3.4)\n",
      "Requirement already satisfied: urllib3<3,>=1.21.1 in c:\\users\\sheba\\anaconda3\\lib\\site-packages (from requests) (1.26.16)\n",
      "Requirement already satisfied: certifi>=2017.4.17 in c:\\users\\sheba\\anaconda3\\lib\\site-packages (from requests) (2023.7.22)\n"
     ]
    }
   ],
   "source": [
    "!pip install bs4\n",
    "!pip install requests"
   ]
  },
  {
   "cell_type": "code",
   "execution_count": 23,
   "id": "6da14abd",
   "metadata": {},
   "outputs": [
    {
     "data": {
      "text/plain": [
       "<Response [403]>"
      ]
     },
     "execution_count": 23,
     "metadata": {},
     "output_type": "execute_result"
    }
   ],
   "source": [
    "import requests\n",
    "from bs4 import BeautifulSoup\n",
    "import pandas as pd\n",
    "\n",
    "url = 'https://www.imdb.com/list/ls056092300/'\n",
    "\n",
    "response = requests.get(url)\n",
    "response"
   ]
  },
  {
   "cell_type": "code",
   "execution_count": 24,
   "id": "f0f690e6",
   "metadata": {},
   "outputs": [],
   "source": [
    "soup = BeautifulSoup(response.content,'html.parser')"
   ]
  },
  {
   "cell_type": "code",
   "execution_count": 25,
   "id": "34e31040",
   "metadata": {},
   "outputs": [
    {
     "name": "stdout",
     "output_type": "stream",
     "text": [
      "Empty DataFrame\n",
      "Columns: [Name, Rating, Year of Release]\n",
      "Index: []\n"
     ]
    }
   ],
   "source": [
    "top_rated_movies = soup.find_all('div', class_='sc-74bf520e-3 klvfeN dli-parent')\n",
    "\n",
    "names = []\n",
    "ratings = []\n",
    "year_of_release = []\n",
    "\n",
    "for movie in top_rated_movies:\n",
    "    name = movie.h3.a.text\n",
    "    rating = movie.find('span', class_='ipc-rating-star ipc-rating-star--base ipc-rating-star--imdb ratingGroup--imdb-rating').text\n",
    "    year = movie.find('span', class_='sc-b189961a-8 kLaxqf dli-title-metadata-item').text.strip('()')\n",
    "    \n",
    "    names.append(name)\n",
    "    ratings.append(rating)\n",
    "    year_of_release.append(year)\n",
    "\n",
    "data = {'Name': names, 'Rating': ratings, 'Year of Release': year_of_release}\n",
    "df = pd.DataFrame(data)\n",
    "\n",
    "print(df)\n"
   ]
  },
  {
   "cell_type": "code",
   "execution_count": 26,
   "id": "7a8967a9",
   "metadata": {},
   "outputs": [
    {
     "data": {
      "text/plain": [
       "<Response [200]>"
      ]
     },
     "execution_count": 26,
     "metadata": {},
     "output_type": "execute_result"
    }
   ],
   "source": [
    "import requests\n",
    "from bs4 import BeautifulSoup\n",
    "import pandas as pd\n",
    "\n",
    "url = 'https://www.patreon.com/coreyms'\n",
    "\n",
    "response = requests.get(url)\n",
    "response"
   ]
  },
  {
   "cell_type": "code",
   "execution_count": 21,
   "id": "f012a815",
   "metadata": {},
   "outputs": [
    {
     "name": "stdout",
     "output_type": "stream",
     "text": [
      "Fetching details from https://www.patreon.com/coreyms...\n",
      "No posts found or failed to scrape the page.\n"
     ]
    }
   ],
   "source": [
    "import requests\n",
    "from bs4 import BeautifulSoup\n",
    "\n",
    "def scrape_patreon_posts(url):\n",
    "    response = requests.get(url)\n",
    "    if response.status_code != 200:\n",
    "        print(f\"Failed to retrieve the webpage: {response.status_code}\")\n",
    "        return []\n",
    "\n",
    "    soup = BeautifulSoup(response.content, 'html.parser')\n",
    "    posts = []\n",
    "\n",
    "    \n",
    "    for post in soup.find_all('div', class_='sc-1s2c40n-0 bPqvTx'):\n",
    "        heading = post.find('h2').text if post.find('h2') else 'N/A'\n",
    "        date = post.find('time').text if post.find('time') else 'N/A'\n",
    "        content = post.find('div', class_='sc-1sab0l6-0 hyjBiD').text if post.find('div', class_='sc-1sab0l6-0 hyjBiD') else 'N/A'\n",
    "        likes = post.find('div', class_='sc-18u9deh-2 iXKwIz').text if post.find('div', class_='sc-18u9deh-2 iXKwIz') else 'N/A'\n",
    "        \n",
    "        youtube_link = 'N/A'\n",
    "        for a_tag in post.find_all('a', href=True):\n",
    "            if 'youtube.com' in a_tag['href']:\n",
    "                youtube_link = a_tag['href']\n",
    "                break\n",
    "        \n",
    "        posts.append({\n",
    "            'heading': heading,\n",
    "            'date': date,\n",
    "            'content': content,\n",
    "            'likes': likes,\n",
    "            'youtube_link': youtube_link\n",
    "        })\n",
    "\n",
    "    return posts\n",
    "\n",
    "def main():\n",
    "    url = 'https://www.patreon.com/coreyms'\n",
    "    print(f\"Fetching details from {url}...\")\n",
    "    posts = scrape_patreon_posts(url)\n",
    "    \n",
    "    if posts:\n",
    "        for post in posts:\n",
    "            print(f\"Heading: {post['heading']}\")\n",
    "            print(f\"Date: {post['date']}\")\n",
    "            print(f\"Content: {post['content']}\")\n",
    "            print(f\"Likes: {post['likes']}\")\n",
    "            print(f\"YouTube Link: {post['youtube_link']}\")\n",
    "            print(\"-\" * 80)\n",
    "    else:\n",
    "        print(\"No posts found or failed to scrape the page.\")\n",
    "\n",
    "if __name__ == \"__main__\":\n",
    "    main()\n"
   ]
  },
  {
   "cell_type": "code",
   "execution_count": 28,
   "id": "9e3a1b86",
   "metadata": {},
   "outputs": [
    {
     "data": {
      "text/plain": [
       "<Response [200]>"
      ]
     },
     "execution_count": 28,
     "metadata": {},
     "output_type": "execute_result"
    }
   ],
   "source": [
    "import requests\n",
    "from bs4 import BeautifulSoup\n",
    "import pandas as pd\n",
    "\n",
    "url = 'https://www.nobroker.in/'\n",
    "\n",
    "response = requests.get(url)\n",
    "response"
   ]
  },
  {
   "cell_type": "code",
   "execution_count": 12,
   "id": "8988f753",
   "metadata": {},
   "outputs": [
    {
     "name": "stdout",
     "output_type": "stream",
     "text": [
      "Fetching details for Indira Nagar...\n",
      "No houses found for Indira Nagar\n",
      "Fetching details for Jayanagar...\n",
      "No houses found for Jayanagar\n",
      "Fetching details for Rajaji Nagar...\n",
      "No houses found for Rajaji Nagar\n"
     ]
    }
   ],
   "source": [
    "import requests\n",
    "from bs4 import BeautifulSoup\n",
    "\n",
    "def get_house_details(url, locality):\n",
    "    response = requests.get(url, params={'searchParam': locality})\n",
    "    if response.status_code != 200:\n",
    "        print(f\"Failed to retrieve data for {locality}\")\n",
    "        return []\n",
    "    \n",
    "    soup = BeautifulSoup(response.content, 'html.parser')\n",
    "    house_list = []\n",
    "\n",
    "    for listing in soup.find_all('div', class_='card'):\n",
    "        title = listing.find('h2', class_='heading-6').text.strip() if listing.find('h2', class_='heading-6') else 'N/A'\n",
    "        location = listing.find('div', class_='nb__1EwQz').text.strip() if listing.find('div', class_='nb__1EwQz') else 'N/A'\n",
    "        area = listing.find('div', class_='nb__3oNyC').text.strip() if listing.find('div', class_='nb__3oNyC') else 'N/A'\n",
    "        emi = listing.find('div', class_='nb__K_Q1p').text.strip() if listing.find('div', class_='nb__K_Q1p') else 'N/A'\n",
    "        price = listing.find('div', class_='nb__3SxoM').text.strip() if listing.find('div', class_='nb__3SxoM') else 'N/A'\n",
    "        \n",
    "        house_list.append({\n",
    "            'title': title,\n",
    "            'location': location,\n",
    "            'area': area,\n",
    "            'emi': emi,\n",
    "            'price': price\n",
    "        })\n",
    "    \n",
    "    return house_list\n",
    "\n",
    "def main():\n",
    "    base_url = 'https://www.nobroker.in/property/sale'\n",
    "    localities = ['Indira Nagar', 'Jayanagar', 'Rajaji Nagar']\n",
    "\n",
    "    for locality in localities:\n",
    "        print(f\"Fetching details for {locality}...\")\n",
    "        houses = get_house_details(base_url, locality)\n",
    "        if houses:\n",
    "            for house in houses:\n",
    "                print(house)\n",
    "        else:\n",
    "            print(f\"No houses found for {locality}\")\n",
    "\n",
    "if __name__ == \"__main__\":\n",
    "    main()\n"
   ]
  },
  {
   "cell_type": "code",
   "execution_count": 30,
   "id": "1918f5ad",
   "metadata": {},
   "outputs": [
    {
     "data": {
      "text/plain": [
       "<Response [200]>"
      ]
     },
     "execution_count": 30,
     "metadata": {},
     "output_type": "execute_result"
    }
   ],
   "source": [
    "import requests\n",
    "from bs4 import BeautifulSoup\n",
    "\n",
    "url = \"https://www.bewakoof.com/bestseller?sort=popular\"\n",
    "\n",
    "response = requests.get(url)\n",
    "\n",
    "response"
   ]
  },
  {
   "cell_type": "code",
   "execution_count": 11,
   "id": "46437ab9",
   "metadata": {},
   "outputs": [
    {
     "name": "stdout",
     "output_type": "stream",
     "text": [
      "{'name': 'Bewakoof®', 'price': None, 'image_url': 'https://images.bewakoof.com/t640/women-solid-pyjamas-19-620045-1707312573-1.jpg'}\n",
      "{'name': 'Bewakoof®', 'price': None, 'image_url': 'https://images.bewakoof.com/t640/women-aop-regular-pyjamas-604944-1706768740-1.jpg'}\n",
      "{'name': 'Bewakoof Air® 1.0', 'price': None, 'image_url': 'https://images.bewakoof.com/t640/men-s-black-oversized-cargo-joggers-552880-1710766583-1.jpg'}\n",
      "{'name': 'bewakoof x cartoon network', 'price': None, 'image_url': 'https://images.bewakoof.com/t640/women-s-black-the-flintstones-graphic-printed-oversized-t-shirt-608730-1709034128-1.jpg'}\n",
      "{'name': 'Bewakoof®', 'price': None, 'image_url': 'https://images.bewakoof.com/t640/women-grey-solid-tshirt-24-582039-1688996135-1.jpg'}\n",
      "{'name': 'Bewakoof®', 'price': None, 'image_url': 'https://images.bewakoof.com/t640/men-s-black-oversized-t-shirt-439421-1709216671-1.jpg'}\n",
      "{'name': 'Bewakoof®', 'price': None, 'image_url': 'https://images.bewakoof.com/t640/women-s-black-oversized-cargo-parachute-pants-589655-1707292800-1.jpg'}\n",
      "{'name': 'Bewakoof®', 'price': None, 'image_url': 'https://images.bewakoof.com/t640/women-s-blue-slim-fit-joggers-321348-1682420928-1.JPG'}\n",
      "{'name': 'Bewakoof Heavy Duty® 1.0', 'price': None, 'image_url': 'https://images.bewakoof.com/t640/women-s-grey-oversized-dress-582067-1708519423-1.jpg'}\n",
      "{'name': 'Bewakoof®', 'price': None, 'image_url': 'https://images.bewakoof.com/t640/men-s-grey-eternity-graphic-printed-oversized-t-shirt-596129-1715257925-1.jpg'}\n"
     ]
    }
   ],
   "source": [
    "import requests\n",
    "from bs4 import BeautifulSoup\n",
    "\n",
    "url = \"https://www.bewakoof.com/bestseller?sort=popular\"\n",
    "headers = {\"User-Agent\": \"Mozilla/5.0 (Windows NT 10.0; Win64; x64) AppleWebKit/537.36 (KHTML, like Gecko) Chrome/91.0.4472.124 Safari/537.36\"}\n",
    "\n",
    "response = requests.get(url, headers=headers)\n",
    "soup = BeautifulSoup(response.content, 'html.parser')\n",
    "\n",
    "products = soup.find_all('div', class_='productCardBox')[:10]\n",
    "\n",
    "product_details = []\n",
    "\n",
    "for product in products:\n",
    "    name = product.find('h3').text.strip()\n",
    "    price = product.find('span', class_='discountedPriceText')\n",
    "    image_url = product.find('img')['src']\n",
    "\n",
    "    product_details.append({\n",
    "        'name': name,\n",
    "        'price': price,\n",
    "        'image_url': image_url\n",
    "    })\n",
    "\n",
    "for detail in product_details:\n",
    "    print(detail)\n"
   ]
  },
  {
   "cell_type": "code",
   "execution_count": 5,
   "id": "dbabad20",
   "metadata": {},
   "outputs": [
    {
     "name": "stdout",
     "output_type": "stream",
     "text": [
      "Failed to retrieve the page. Status code: 200\n"
     ]
    }
   ],
   "source": [
    "import requests\n",
    "from bs4 import BeautifulSoup\n",
    "\n",
    "url = \"https://www.keaipublishing.com/en/journals/artificial-intelligence-in-agriculture/most-downloaded-articles/\"\n",
    "\n",
    "response = requests.get(url)\n",
    "\n",
    "soup = BeautifulSoup(response.content, 'html.parser')\n",
    "\n",
    "   \n",
    "articles = soup.find_all('div', class_='article-item')\n",
    "\n",
    "for article in articles:\n",
    "      \n",
    "        title = article.find('h2').get_text(strip=True)\n",
    "        date = article.find('span', class_='date').get_text(strip=True)\n",
    "        authors = article.find('div', class_='authors').get_text(strip=True)\n",
    "\n",
    "        print(f\"Title: {title}\")\n",
    "        print(f\"Date: {date}\")\n",
    "        print(f\"Authors: {authors}\")\n",
    "        print(\"-\" * 80)\n",
    "else:\n",
    "    print(f\"Failed to retrieve the page. Status code: {response.status_code}\")\n"
   ]
  },
  {
   "cell_type": "code",
   "execution_count": 2,
   "id": "28d5aefd",
   "metadata": {},
   "outputs": [
    {
     "name": "stdout",
     "output_type": "stream",
     "text": [
      "Heading: Jefferies says small caps are starting to outperform and these stocks are the best way to play it\n",
      "Date: No date available\n",
      "News Link: https://www.cnbc.com/2024/05/24/jefferies-says-small-caps-are-starting-to-outperform-and-these-stocks-are-the-best-way-to-play-it.html\n",
      "----------------------------------------\n",
      "Heading: Ark Invest's Cathie Wood says lower prices and rates will 'activate coiled equities'\n",
      "Date: No date available\n",
      "News Link: https://www.cnbc.com/2024/05/24/ark-invests-cathie-wood-says-lower-prices-and-rates-will-activate-coiled-equities.html\n",
      "----------------------------------------\n",
      "Heading: Stocks rise slightly as Dow looks to recover from worst session since March 2023: Live updates\n",
      "Date: No date available\n",
      "News Link: https://www.cnbc.com/2024/05/23/stock-market-today-live-updates.html\n",
      "----------------------------------------\n",
      "Heading: Wall Street ponders what happens to booming private credit market when you-know-what hits the fan\n",
      "Date: No date available\n",
      "News Link: https://www.cnbc.com/2024/05/24/wall-street-ponders-what-happens-to-booming-private-credit-market-when-you-know-what-hits-the-fan.html\n",
      "----------------------------------------\n",
      "Heading: Jefferies says small caps are starting to outperform and these stocks are the best way to play it\n",
      "Date: No date available\n",
      "News Link: https://www.cnbc.com/2024/05/24/jefferies-says-small-caps-are-starting-to-outperform-and-these-stocks-are-the-best-way-to-play-it.html\n",
      "----------------------------------------\n",
      "Heading: Cathie Wood says lower prices and rates will 'activate coiled equities'\n",
      "Date: No date available\n",
      "News Link: https://www.cnbc.com/2024/05/24/ark-invests-cathie-wood-says-lower-prices-and-rates-will-activate-coiled-equities.html\n",
      "----------------------------------------\n",
      "Heading: Japanese stocks are rallying, but one key group of investors is missing\n",
      "Date: No date available\n",
      "News Link: https://www.cnbc.com/2024/05/24/japanese-stocks-are-rallying-but-these-investors-are-selling.html\n",
      "----------------------------------------\n",
      "Heading: Here are JPMorgan's top clean energy picks for the rest of 2024\n",
      "Date: No date available\n",
      "News Link: https://www.cnbc.com/2024/05/24/here-are-jpmorgans-top-clean-energy-picks-for-the-rest-of-2024.html\n",
      "----------------------------------------\n",
      "Heading: These AI plays are still cheap even after this year's Nvidia-driven bull run\n",
      "Date: No date available\n",
      "News Link: https://www.cnbc.com/2024/05/24/these-ai-plays-are-still-cheap-even-after-this-years-incredible-nvidia-driven-bull-run.html\n",
      "----------------------------------------\n",
      "Heading: Russia cannot swallow the West whole, Orban says; G7 finance chiefs meet with Ukraine on agenda\n",
      "Date: No date available\n",
      "News Link: https://www.cnbc.com/2024/05/24/ukraine-war-live-updates-latest-news-on-russia-and-the-war-in-ukraine.html\n",
      "----------------------------------------\n",
      "Heading: Russia threatens direct strikes on British military targets; Kharkiv hit with 'extremely brutal' attack\n",
      "Date: No date available\n",
      "News Link: https://www.cnbc.com/2024/05/23/ukraine-war-live-updates-latest-news-on-russia-and-the-war-in-ukraine.html\n",
      "----------------------------------------\n",
      "Heading: Russia denies wanting to redraw Baltic Sea border; Moscow's nuclear drills send a warning to the West\n",
      "Date: No date available\n",
      "News Link: https://www.cnbc.com/2024/05/22/ukraine-war-live-updates-latest-news-on-russia-and-the-war-in-ukraine.html\n",
      "----------------------------------------\n",
      "Heading: Kremlin says Zelenskyy 'slipping into hysterics' wanting the West to get directly involved in the war\n",
      "Date: No date available\n",
      "News Link: https://www.cnbc.com/2024/05/21/ukraine-war-live-updates-latest-news-on-russia-and-the-war-in-ukraine.html\n",
      "----------------------------------------\n",
      "Heading: Putin says Iran's Raisi was 'true friend of Russia', Ukraine and Russia exchange tit-for-tat strikes\n",
      "Date: No date available\n",
      "News Link: https://www.cnbc.com/2024/05/20/ukraine-war-live-updates-latest-news-on-russia-and-the-war-in-ukraine.html\n",
      "----------------------------------------\n",
      "Heading: In the EV future, Thailand, the 'Detroit of Asia,' could be a key China hedge for automakers\n",
      "Date: No date available\n",
      "News Link: https://www.cnbc.com/2024/05/12/with-evs-the-detroit-of-asia-wants-to-be-china-hedge-for-automakers.html\n",
      "----------------------------------------\n",
      "Heading: Food startup Hungryroot uses AI to reduce waste, a major climate offender\n",
      "Date: No date available\n",
      "News Link: https://www.cnbc.com/2024/05/07/food-startup-hungryroot-uses-ai-to-reduce-waste-major-climate-offender.html\n",
      "----------------------------------------\n",
      "Heading: World's largest olive oil maker says industry faces one of its toughest moments\n",
      "Date: No date available\n",
      "News Link: https://www.cnbc.com/2024/05/02/spains-deoleo-says-olive-oil-sector-faces-one-of-its-toughest-moments.html\n",
      "----------------------------------------\n",
      "Heading: An olive oil shortage is fueling record prices and food insecurity fears\n",
      "Date: No date available\n",
      "News Link: https://www.cnbc.com/2024/05/02/liquid-gold-a-shortage-of-olive-oil-has-fueled-a-record-price-spike.html\n",
      "----------------------------------------\n",
      "Heading: The world's happiest countries are looking beyond net zero despite a 'greenlash'\n",
      "Date: No date available\n",
      "News Link: https://www.cnbc.com/2024/05/01/climate-crisis-worlds-happiest-countries-are-looking-beyond-net-zero.html\n",
      "----------------------------------------\n",
      "Heading: Bhutan turns to 'Gross National Happiness 2.0' as crisis deepens\n",
      "Date: No date available\n",
      "News Link: https://www.cnbc.com/2024/05/24/bhutan-introduces-gross-national-happiness-2point0-to-help-economic-crisis.html\n",
      "----------------------------------------\n",
      "Heading: Think Bhutan’s $100 daily tourism fee is pricey? It could go higher, says prime minister\n",
      "Date: No date available\n",
      "News Link: https://www.cnbc.com/2024/05/21/bhutan-may-revise-its-sustainable-development-fee-if-travel-picks-up.html\n",
      "----------------------------------------\n",
      "Heading: No walk-ins allowed: What to know when touring the world’s best wine regions\n",
      "Date: No date available\n",
      "News Link: https://www.cnbc.com/2024/05/17/wine-tours-what-to-know-about-touring-world-famous-wine-regions.html\n",
      "----------------------------------------\n",
      "Heading: Fallout between Maldives and India is ‘absolutely’ benefiting Sri Lanka\n",
      "Date: No date available\n",
      "News Link: https://www.cnbc.com/2024/05/14/fallout-between-maldives-and-india-absolutely-benefiting-sri-lanka.html\n",
      "----------------------------------------\n",
      "Heading: $22,000 per week? All-inclusive resorts go big to win over luxury travelers\n",
      "Date: No date available\n",
      "News Link: https://www.cnbc.com/2024/05/09/all-inclusive-resorts-add-services-to-attract-more-luxury-travelers.html\n",
      "----------------------------------------\n",
      "Heading: Your student loan payment could get cut in half this summer—here's what to know\n",
      "Date: No date available\n",
      "News Link: https://www.cnbc.com/2024/05/24/save-plan-student-loan-payments-could-get-cut-in-half-in-july.html\n",
      "----------------------------------------\n",
      "Heading: The ultimate guide to becoming a master communicator and public speaker\n",
      "Date: No date available\n",
      "News Link: https://www.cnbc.com/2024/05/15/ultimate-guide-to-becoming-master-communicator-public-speaker.html\n",
      "----------------------------------------\n",
      "Heading: The number of Americans who are 'doing OK financially' drops to 4-year low\n",
      "Date: No date available\n",
      "News Link: https://www.cnbc.com/2024/05/24/why-americans-feel-worse-off-financially.html\n",
      "----------------------------------------\n",
      "Heading: Covid FLiRT variants may cause summer surge: 7 ways to boost your immune system\n",
      "Date: No date available\n",
      "News Link: https://www.cnbc.com/2024/05/24/covid-flirt-variants-7-ways-to-boost-your-immune-system.html\n",
      "----------------------------------------\n",
      "Heading: 49% of Americans say a college degree is less important now than 20 years ago\n",
      "Date: No date available\n",
      "News Link: https://www.cnbc.com/2024/05/23/nearly-half-of-americans-say-college-degree-is-less-important-now-than-it-was-20-years-ago.html\n",
      "----------------------------------------\n",
      "Heading: eVTOLS: Are flying cars finally becoming reality?\n",
      "Date: No date available\n",
      "News Link: https://www.cnbc.com/video/2024/03/28/evtols-how-flying-cars-are-becoming-reality.html\n",
      "----------------------------------------\n",
      "Heading: How China's property bubble burst\n",
      "Date: No date available\n",
      "News Link: https://www.cnbc.com/video/2024/02/29/how-chinas-property-bubble-burst.html\n",
      "----------------------------------------\n",
      "Heading: What is the World Economic Forum?\n",
      "Date: No date available\n",
      "News Link: https://www.cnbc.com/video/2024/01/15/what-is-the-world-economic-forum.html\n",
      "----------------------------------------\n",
      "Heading: The Quad is going beyond military exercises — and China is watching\n",
      "Date: No date available\n",
      "News Link: https://www.cnbc.com/video/2022/07/04/the-quad-expands-beyond-naval-military-exercises-and-china-watches.html\n",
      "----------------------------------------\n",
      "Heading: Why a coup in Guinea was felt around the world\n",
      "Date: No date available\n",
      "News Link: https://www.cnbc.com/video/2021/12/16/why-a-coup-in-guinea-was-felt-around-the-world.html\n",
      "----------------------------------------\n"
     ]
    }
   ],
   "source": [
    "import requests\n",
    "from bs4 import BeautifulSoup\n",
    "\n",
    "url = \"https://www.cnbc.com/world/?region=world\"\n",
    "\n",
    "\n",
    "response = requests.get(url)\n",
    "\n",
    "soup = BeautifulSoup(response.content, 'html.parser')\n",
    "\n",
    "articles = soup.find_all('div', class_='Card-standardBreakerCard')\n",
    "\n",
    "\n",
    "for article in articles:\n",
    "  \n",
    "    heading = article.find('a', class_='Card-title').get_text(strip=True)\n",
    "\n",
    "  \n",
    "    date = article.find('time', class_='Card-time')\n",
    "    if date:\n",
    "        date = date.get_text(strip=True)\n",
    "    else:\n",
    "        date = \"No date available\"\n",
    "\n",
    "  \n",
    "    news_link = article.find('a', class_='Card-title')['href']\n",
    "\n",
    " \n",
    "    print(f\"Heading: {heading}\")\n",
    "    print(f\"Date: {date}\")\n",
    "    print(f\"News Link: {news_link}\")\n",
    "    print(\"-\" * 40)\n"
   ]
  },
  {
   "cell_type": "code",
   "execution_count": null,
   "id": "97344dbb",
   "metadata": {},
   "outputs": [],
   "source": []
  }
 ],
 "metadata": {
  "kernelspec": {
   "display_name": "Python 3 (ipykernel)",
   "language": "python",
   "name": "python3"
  },
  "language_info": {
   "codemirror_mode": {
    "name": "ipython",
    "version": 3
   },
   "file_extension": ".py",
   "mimetype": "text/x-python",
   "name": "python",
   "nbconvert_exporter": "python",
   "pygments_lexer": "ipython3",
   "version": "3.11.5"
  }
 },
 "nbformat": 4,
 "nbformat_minor": 5
}
